{
 "cells": [
  {
   "cell_type": "code",
   "execution_count": 1,
   "id": "244b1a74-3859-41e9-9381-8c8b69e72e35",
   "metadata": {},
   "outputs": [],
   "source": [
    "import itertools\n",
    "import glob\n",
    "import os\n",
    "from pathlib import Path\n",
    "\n",
    "import meshio\n",
    "import numpy as np\n",
    "import matplotlib.pyplot as plt\n",
    "import scipy as sp\n",
    "from celluloid import Camera\n",
    "from IPython.display import HTML, Image\n",
    "\n",
    "import ofiz.plot as ofiz\n",
    "\n",
    "ROOT = Path(\"./assets/img/\")\n",
    "\n",
    "if not os.path.exists(ROOT):\n",
    "    os.makedirs(ROOT)"
   ]
  },
  {
   "cell_type": "markdown",
   "id": "10dc0a70-bab4-404b-845d-e0b215710785",
   "metadata": {},
   "source": [
    "# Pressure"
   ]
  },
  {
   "cell_type": "code",
   "execution_count": 3,
   "id": "4888104b-9e2a-421f-8f2c-21058e4fb941",
   "metadata": {},
   "outputs": [
    {
     "data": {
      "text/html": [
       "<img src=\"assets/img/c_heatmap.gif\"/>"
      ],
      "text/plain": [
       "<IPython.core.display.Image object>"
      ]
     },
     "execution_count": 3,
     "metadata": {},
     "output_type": "execute_result"
    }
   ],
   "source": [
    "def plot_fn(mesh, ax):\n",
    "    mesh = ofiz.MeshGraphics(mesh)\n",
    "    mesh.plot_heatmap(field_name=\"C\", field_type=\"point\", resolution=(128, 128, 2), sigma=2.5, ax=ax)\n",
    "\n",
    "ofiz.animate(\"./VTK\", plot_fn, gif_path=ROOT / \"c_heatmap.gif\", fps=5, start=2000)"
   ]
  }
 ],
 "metadata": {
  "kernelspec": {
   "display_name": "Python 3 (ipykernel)",
   "language": "python",
   "name": "python3"
  },
  "language_info": {
   "codemirror_mode": {
    "name": "ipython",
    "version": 3
   },
   "file_extension": ".py",
   "mimetype": "text/x-python",
   "name": "python",
   "nbconvert_exporter": "python",
   "pygments_lexer": "ipython3",
   "version": "3.12.3"
  }
 },
 "nbformat": 4,
 "nbformat_minor": 5
}
