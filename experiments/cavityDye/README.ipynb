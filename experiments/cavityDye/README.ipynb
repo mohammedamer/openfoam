{
 "cells": [
  {
   "cell_type": "code",
   "execution_count": 1,
   "id": "244b1a74-3859-41e9-9381-8c8b69e72e35",
   "metadata": {},
   "outputs": [],
   "source": [
    "import itertools\n",
    "import glob\n",
    "import os\n",
    "from pathlib import Path\n",
    "\n",
    "import meshio\n",
    "import numpy as np\n",
    "import matplotlib.pyplot as plt\n",
    "import scipy as sp\n",
    "from celluloid import Camera\n",
    "from IPython.display import HTML, Image\n",
    "\n",
    "import ofiz.plot as ofiz\n",
    "\n",
    "ROOT = Path(\"./assets/img/\")\n",
    "\n",
    "if not os.path.exists(ROOT):\n",
    "    os.makedirs(ROOT)"
   ]
  },
  {
   "cell_type": "code",
   "execution_count": 96,
   "id": "970fe269-0d02-42a8-b5aa-aa5f559bf3cd",
   "metadata": {},
   "outputs": [],
   "source": [
    "vtk_path = \"VTK/cavityDye_2000.vtk\"\n",
    "\n",
    "mesh = meshio.read(vtk_path)"
   ]
  },
  {
   "cell_type": "markdown",
   "id": "10dc0a70-bab4-404b-845d-e0b215710785",
   "metadata": {},
   "source": [
    "# Pressure"
   ]
  },
  {
   "cell_type": "code",
   "execution_count": 97,
   "id": "4888104b-9e2a-421f-8f2c-21058e4fb941",
   "metadata": {},
   "outputs": [
    {
     "data": {
      "text/plain": [
       "<Axes: >"
      ]
     },
     "execution_count": 97,
     "metadata": {},
     "output_type": "execute_result"
    },
    {
     "data": {
      "image/png": "[encoded data removed]",
      "text/plain": [
       "<Figure size 640x480 with 1 Axes>"
      ]
     },
     "metadata": {},
     "output_type": "display_data"
    }
   ],
   "source": [
    "ofiz.plot_heatmap(mesh=mesh, field=mesh.point_data[\"C\"], field_type=\"point\", resolution=(128, 128, 2), sigma=3)"
   ]
  },
  {
   "cell_type": "code",
   "execution_count": 98,
   "id": "8d897858-2b4e-43f6-b180-4abab5dc40f0",
   "metadata": {},
   "outputs": [
    {
     "data": {
      "text/html": [
       "<img src=\"assets/img/c_heatmap.gif\"/>"
      ],
      "text/plain": [
       "<IPython.core.display.Image object>"
      ]
     },
     "execution_count": 98,
     "metadata": {},
     "output_type": "execute_result"
    }
   ],
   "source": [
    "def plot_fn(mesh, ax):\n",
    "\n",
    "    if \"C\" not in mesh.point_data:\n",
    "        return\n",
    "    mesh = ofiz.MeshGraphics(mesh)\n",
    "    mesh.plot_heatmap(field_name=\"C\", field_type=\"point\", resolution=(128, 128, 2), sigma=2.5, ax=ax)\n",
    "\n",
    "ofiz.animate(\"./VTK\", plot_fn, gif_path=ROOT / \"c_heatmap.gif\", fps=10)"
   ]
  },
  {
   "cell_type": "code",
   "execution_count": null,
   "id": "99cbca8e-f8e2-4bb2-ac95-f5db5c4d19c6",
   "metadata": {},
   "outputs": [],
   "source": []
  }
 ],
 "metadata": {
  "kernelspec": {
   "display_name": "Python 3 (ipykernel)",
   "language": "python",
   "name": "python3"
  },
  "language_info": {
   "codemirror_mode": {
    "name": "ipython",
    "version": 3
   },
   "file_extension": ".py",
   "mimetype": "text/x-python",
   "name": "python",
   "nbconvert_exporter": "python",
   "pygments_lexer": "ipython3",
   "version": "3.12.3"
  }
 },
 "nbformat": 4,
 "nbformat_minor": 5
}
